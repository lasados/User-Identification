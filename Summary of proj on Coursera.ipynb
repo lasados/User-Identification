{
 "cells": [
  {
   "cell_type": "markdown",
   "metadata": {},
   "source": [
    "# 1) Постановка задачи"
   ]
  },
  {
   "cell_type": "markdown",
   "metadata": {},
   "source": [
    "### Идентификация пользователей по посещенным веб-страницам\n",
    "\n",
    "В этом проекте решалась задача идентификации пользователя по его поведению в сети Интернет: по последовательности из нескольких веб-сайтов, посещенных подряд одним и тем же человеком. \n",
    "\n",
    "**Идея**: каждый ползователь имеет личные особенности и интересы, что отражается на его активности в Интернете. В зависимости от образа жизни, места работы, семейного положения и других факторов ползователь посещает некоторые сайты, в некоторое время, с некоторой частотой. Заметив аномальную сессию, не характерную для данного пользователя, можно с некоторой вероятностью прогнозировать факт взлома пользователя. Определив допустимый порог данной вероятности для неординарной сессии можно обезопасить пользователя от несанкционированной авторизации, тем самым сохраняя и преумножая лояльность клиентов сервиса. \n",
    "\n",
    "**Данные**:\n",
    "Представленные данные взяты из статьи \"A Tool for Classification of Sequential Data\".\n",
    "\n",
    "Имеются данные с прокси-серверов Университета Блеза Паскаля. Для каждого пользователя заведен csv-файл с названием user****.csv (где вместо звездочек – 4 цифры, соответствующие ID пользователя), а в нем посещения сайтов записаны в следующем формате:\n",
    "\n",
    "\n",
    "| timestamp               | site            | \n",
    "|:-------------           |:---------------:| \n",
    "| 2013-11-15 08:12:07     | google.com      |\n",
    "| 2013-11-15 08:12:38     | youtube.com     |\n",
    "| 2013-11-15 08:12:58     | github.com      |\n",
    "\n"
   ]
  },
  {
   "cell_type": "markdown",
   "metadata": {},
   "source": [
    "Подробности, источники данных и другая информация содержится в соревновании:\n",
    "\n",
    "https://www.kaggle.com/c/catch-me-if-you-can-intruder-detection-through-webpage-session-tracking2"
   ]
  },
  {
   "cell_type": "markdown",
   "metadata": {},
   "source": [
    "# 2) Извлечение признаков"
   ]
  },
  {
   "cell_type": "code",
   "execution_count": 33,
   "metadata": {},
   "outputs": [],
   "source": [
    "from __future__ import division, print_function\n",
    "# отключим предупреждения Anaconda\n",
    "import warnings\n",
    "warnings.filterwarnings('ignore')\n",
    "import os\n",
    "import pickle\n",
    "import numpy as np\n",
    "import pandas as pd\n",
    "from scipy.sparse import csr_matrix\n",
    "from sklearn.model_selection import train_test_split, GridSearchCV\n",
    "from sklearn.linear_model import SGDClassifier\n",
    "from sklearn.metrics import roc_auc_score, precision_recall_curve, auc, roc_curve\n",
    "\n",
    "from matplotlib import pyplot as plt\n",
    "import seaborn as sns\n",
    "\n",
    "from datetime import datetime\n",
    "start_time = datetime(1970, 1, 1)\n",
    "import csv\n",
    "import time"
   ]
  },
  {
   "cell_type": "markdown",
   "metadata": {},
   "source": [
    "**Путь к файлам**"
   ]
  },
  {
   "cell_type": "code",
   "execution_count": 2,
   "metadata": {},
   "outputs": [],
   "source": [
    "t0 = time.clock()"
   ]
  },
  {
   "cell_type": "code",
   "execution_count": 3,
   "metadata": {},
   "outputs": [],
   "source": [
    "PATH_TO_DATA = r'C:\\Users\\Anatoly\\1python\\1coursera\\MachineLearning\\6courseFinalProjects\\UserIdentification\\5. Соревнование\\KaggleData'"
   ]
  },
  {
   "cell_type": "markdown",
   "metadata": {},
   "source": [
    "**Чтение файлов csv**"
   ]
  },
  {
   "cell_type": "code",
   "execution_count": 4,
   "metadata": {},
   "outputs": [],
   "source": [
    "# datasets load from kaggle\n",
    "train_df = pd.read_csv(os.path.join(PATH_TO_DATA, 'train_sessions.csv'),\n",
    "                       index_col='session_id')\n",
    "test_df = pd.read_csv(os.path.join(PATH_TO_DATA, 'test_sessions.csv'),\n",
    "                      index_col='session_id')\n",
    "\n",
    "# target on test data is unknown\n",
    "test_df['target'] = None"
   ]
  },
  {
   "cell_type": "markdown",
   "metadata": {},
   "source": [
    "**Объединение трейн и тест**"
   ]
  },
  {
   "cell_type": "code",
   "execution_count": 5,
   "metadata": {},
   "outputs": [
    {
     "data": {
      "text/html": [
       "<div>\n",
       "<style scoped>\n",
       "    .dataframe tbody tr th:only-of-type {\n",
       "        vertical-align: middle;\n",
       "    }\n",
       "\n",
       "    .dataframe tbody tr th {\n",
       "        vertical-align: top;\n",
       "    }\n",
       "\n",
       "    .dataframe thead th {\n",
       "        text-align: right;\n",
       "    }\n",
       "</style>\n",
       "<table border=\"1\" class=\"dataframe\">\n",
       "  <thead>\n",
       "    <tr style=\"text-align: right;\">\n",
       "      <th></th>\n",
       "      <th>site1</th>\n",
       "      <th>time1</th>\n",
       "      <th>site2</th>\n",
       "      <th>time2</th>\n",
       "      <th>site3</th>\n",
       "      <th>time3</th>\n",
       "      <th>site4</th>\n",
       "      <th>time4</th>\n",
       "      <th>site5</th>\n",
       "      <th>time5</th>\n",
       "      <th>...</th>\n",
       "      <th>time6</th>\n",
       "      <th>site7</th>\n",
       "      <th>time7</th>\n",
       "      <th>site8</th>\n",
       "      <th>time8</th>\n",
       "      <th>site9</th>\n",
       "      <th>time9</th>\n",
       "      <th>site10</th>\n",
       "      <th>time10</th>\n",
       "      <th>target</th>\n",
       "    </tr>\n",
       "    <tr>\n",
       "      <th>session_id</th>\n",
       "      <th></th>\n",
       "      <th></th>\n",
       "      <th></th>\n",
       "      <th></th>\n",
       "      <th></th>\n",
       "      <th></th>\n",
       "      <th></th>\n",
       "      <th></th>\n",
       "      <th></th>\n",
       "      <th></th>\n",
       "      <th></th>\n",
       "      <th></th>\n",
       "      <th></th>\n",
       "      <th></th>\n",
       "      <th></th>\n",
       "      <th></th>\n",
       "      <th></th>\n",
       "      <th></th>\n",
       "      <th></th>\n",
       "      <th></th>\n",
       "      <th></th>\n",
       "    </tr>\n",
       "  </thead>\n",
       "  <tbody>\n",
       "    <tr>\n",
       "      <td>1</td>\n",
       "      <td>718</td>\n",
       "      <td>2014-02-20 10:02:45</td>\n",
       "      <td>NaN</td>\n",
       "      <td>NaN</td>\n",
       "      <td>NaN</td>\n",
       "      <td>NaN</td>\n",
       "      <td>NaN</td>\n",
       "      <td>NaN</td>\n",
       "      <td>NaN</td>\n",
       "      <td>NaN</td>\n",
       "      <td>...</td>\n",
       "      <td>NaN</td>\n",
       "      <td>NaN</td>\n",
       "      <td>NaN</td>\n",
       "      <td>NaN</td>\n",
       "      <td>NaN</td>\n",
       "      <td>NaN</td>\n",
       "      <td>NaN</td>\n",
       "      <td>NaN</td>\n",
       "      <td>NaN</td>\n",
       "      <td>0</td>\n",
       "    </tr>\n",
       "    <tr>\n",
       "      <td>2</td>\n",
       "      <td>890</td>\n",
       "      <td>2014-02-22 11:19:50</td>\n",
       "      <td>941.0</td>\n",
       "      <td>2014-02-22 11:19:50</td>\n",
       "      <td>3847.0</td>\n",
       "      <td>2014-02-22 11:19:51</td>\n",
       "      <td>941.0</td>\n",
       "      <td>2014-02-22 11:19:51</td>\n",
       "      <td>942.0</td>\n",
       "      <td>2014-02-22 11:19:51</td>\n",
       "      <td>...</td>\n",
       "      <td>2014-02-22 11:19:51</td>\n",
       "      <td>3847.0</td>\n",
       "      <td>2014-02-22 11:19:52</td>\n",
       "      <td>3846.0</td>\n",
       "      <td>2014-02-22 11:19:52</td>\n",
       "      <td>1516.0</td>\n",
       "      <td>2014-02-22 11:20:15</td>\n",
       "      <td>1518.0</td>\n",
       "      <td>2014-02-22 11:20:16</td>\n",
       "      <td>0</td>\n",
       "    </tr>\n",
       "    <tr>\n",
       "      <td>3</td>\n",
       "      <td>14769</td>\n",
       "      <td>2013-12-16 16:40:17</td>\n",
       "      <td>39.0</td>\n",
       "      <td>2013-12-16 16:40:18</td>\n",
       "      <td>14768.0</td>\n",
       "      <td>2013-12-16 16:40:19</td>\n",
       "      <td>14769.0</td>\n",
       "      <td>2013-12-16 16:40:19</td>\n",
       "      <td>37.0</td>\n",
       "      <td>2013-12-16 16:40:19</td>\n",
       "      <td>...</td>\n",
       "      <td>2013-12-16 16:40:19</td>\n",
       "      <td>14768.0</td>\n",
       "      <td>2013-12-16 16:40:20</td>\n",
       "      <td>14768.0</td>\n",
       "      <td>2013-12-16 16:40:21</td>\n",
       "      <td>14768.0</td>\n",
       "      <td>2013-12-16 16:40:22</td>\n",
       "      <td>14768.0</td>\n",
       "      <td>2013-12-16 16:40:24</td>\n",
       "      <td>0</td>\n",
       "    </tr>\n",
       "    <tr>\n",
       "      <td>4</td>\n",
       "      <td>782</td>\n",
       "      <td>2014-03-28 10:52:12</td>\n",
       "      <td>782.0</td>\n",
       "      <td>2014-03-28 10:52:42</td>\n",
       "      <td>782.0</td>\n",
       "      <td>2014-03-28 10:53:12</td>\n",
       "      <td>782.0</td>\n",
       "      <td>2014-03-28 10:53:42</td>\n",
       "      <td>782.0</td>\n",
       "      <td>2014-03-28 10:54:12</td>\n",
       "      <td>...</td>\n",
       "      <td>2014-03-28 10:54:42</td>\n",
       "      <td>782.0</td>\n",
       "      <td>2014-03-28 10:55:12</td>\n",
       "      <td>782.0</td>\n",
       "      <td>2014-03-28 10:55:42</td>\n",
       "      <td>782.0</td>\n",
       "      <td>2014-03-28 10:56:12</td>\n",
       "      <td>782.0</td>\n",
       "      <td>2014-03-28 10:56:42</td>\n",
       "      <td>0</td>\n",
       "    </tr>\n",
       "    <tr>\n",
       "      <td>5</td>\n",
       "      <td>22</td>\n",
       "      <td>2014-02-28 10:53:05</td>\n",
       "      <td>177.0</td>\n",
       "      <td>2014-02-28 10:55:22</td>\n",
       "      <td>175.0</td>\n",
       "      <td>2014-02-28 10:55:22</td>\n",
       "      <td>178.0</td>\n",
       "      <td>2014-02-28 10:55:23</td>\n",
       "      <td>177.0</td>\n",
       "      <td>2014-02-28 10:55:23</td>\n",
       "      <td>...</td>\n",
       "      <td>2014-02-28 10:55:59</td>\n",
       "      <td>175.0</td>\n",
       "      <td>2014-02-28 10:55:59</td>\n",
       "      <td>177.0</td>\n",
       "      <td>2014-02-28 10:55:59</td>\n",
       "      <td>177.0</td>\n",
       "      <td>2014-02-28 10:57:06</td>\n",
       "      <td>178.0</td>\n",
       "      <td>2014-02-28 10:57:11</td>\n",
       "      <td>0</td>\n",
       "    </tr>\n",
       "  </tbody>\n",
       "</table>\n",
       "<p>5 rows × 21 columns</p>\n",
       "</div>"
      ],
      "text/plain": [
       "            site1                time1  site2                time2    site3  \\\n",
       "session_id                                                                    \n",
       "1             718  2014-02-20 10:02:45    NaN                  NaN      NaN   \n",
       "2             890  2014-02-22 11:19:50  941.0  2014-02-22 11:19:50   3847.0   \n",
       "3           14769  2013-12-16 16:40:17   39.0  2013-12-16 16:40:18  14768.0   \n",
       "4             782  2014-03-28 10:52:12  782.0  2014-03-28 10:52:42    782.0   \n",
       "5              22  2014-02-28 10:53:05  177.0  2014-02-28 10:55:22    175.0   \n",
       "\n",
       "                          time3    site4                time4  site5  \\\n",
       "session_id                                                             \n",
       "1                           NaN      NaN                  NaN    NaN   \n",
       "2           2014-02-22 11:19:51    941.0  2014-02-22 11:19:51  942.0   \n",
       "3           2013-12-16 16:40:19  14769.0  2013-12-16 16:40:19   37.0   \n",
       "4           2014-03-28 10:53:12    782.0  2014-03-28 10:53:42  782.0   \n",
       "5           2014-02-28 10:55:22    178.0  2014-02-28 10:55:23  177.0   \n",
       "\n",
       "                          time5  ...                time6    site7  \\\n",
       "session_id                       ...                                 \n",
       "1                           NaN  ...                  NaN      NaN   \n",
       "2           2014-02-22 11:19:51  ...  2014-02-22 11:19:51   3847.0   \n",
       "3           2013-12-16 16:40:19  ...  2013-12-16 16:40:19  14768.0   \n",
       "4           2014-03-28 10:54:12  ...  2014-03-28 10:54:42    782.0   \n",
       "5           2014-02-28 10:55:23  ...  2014-02-28 10:55:59    175.0   \n",
       "\n",
       "                          time7    site8                time8    site9  \\\n",
       "session_id                                                               \n",
       "1                           NaN      NaN                  NaN      NaN   \n",
       "2           2014-02-22 11:19:52   3846.0  2014-02-22 11:19:52   1516.0   \n",
       "3           2013-12-16 16:40:20  14768.0  2013-12-16 16:40:21  14768.0   \n",
       "4           2014-03-28 10:55:12    782.0  2014-03-28 10:55:42    782.0   \n",
       "5           2014-02-28 10:55:59    177.0  2014-02-28 10:55:59    177.0   \n",
       "\n",
       "                          time9   site10               time10 target  \n",
       "session_id                                                            \n",
       "1                           NaN      NaN                  NaN      0  \n",
       "2           2014-02-22 11:20:15   1518.0  2014-02-22 11:20:16      0  \n",
       "3           2013-12-16 16:40:22  14768.0  2013-12-16 16:40:24      0  \n",
       "4           2014-03-28 10:56:12    782.0  2014-03-28 10:56:42      0  \n",
       "5           2014-02-28 10:57:06    178.0  2014-02-28 10:57:11      0  \n",
       "\n",
       "[5 rows x 21 columns]"
      ]
     },
     "execution_count": 5,
     "metadata": {},
     "output_type": "execute_result"
    }
   ],
   "source": [
    "train_test_df = pd.concat([train_df, test_df])\n",
    "train_test_df.head()"
   ]
  },
  {
   "cell_type": "markdown",
   "metadata": {},
   "source": [
    "В обучающей выборке видим следующие признаки:\n",
    "    - site1 – индекс первого посещенного сайта в сессии\n",
    "    - time1 – время посещения первого сайта в сессии\n",
    "    - ...\n",
    "    - site10 – индекс 10-го посещенного сайта в сессии\n",
    "    - time10 – время посещения 10-го сайта в сессии\n",
    "    - target \n",
    "    \n",
    "Сессии пользователей выделены таким образом, что они не могут быть длинее получаса или 10 сайтов. То есть сессия считается оконченной либо когда пользователь посетил 10 сайтов подряд, либо когда сессия заняла по времени более 30 минут. \n",
    "\n",
    "Таргет представлен в виде:\n",
    "- **1** - Алиса\n",
    "- **0** - не Алиса "
   ]
  },
  {
   "cell_type": "markdown",
   "metadata": {},
   "source": [
    "**В обучающей выборке – 2297 сессий одного пользователя (Alice) и 251264 сессий – других пользователей, не Элис. Дисбаланс классов очень сильный, и смотреть на долю верных ответов (accuracy) непоказательно.**"
   ]
  },
  {
   "cell_type": "code",
   "execution_count": 6,
   "metadata": {},
   "outputs": [
    {
     "data": {
      "text/plain": [
       "0    251264\n",
       "1      2297\n",
       "Name: target, dtype: int64"
      ]
     },
     "execution_count": 6,
     "metadata": {},
     "output_type": "execute_result"
    }
   ],
   "source": [
    "train_df['target'].value_counts()"
   ]
  },
  {
   "cell_type": "markdown",
   "metadata": {},
   "source": [
    "## 2.1 Признаки по времени посещения сайтов\n",
    "\n",
    "Для каждой группы найдем следующие признаки:\n",
    "- День недели посещения\n",
    "- Час начала сессии\n",
    "- Время перехода на следующий сайт\n",
    "- Продолжительность сессии"
   ]
  },
  {
   "cell_type": "markdown",
   "metadata": {},
   "source": [
    "**Пока для прогноза будем использовать только индексы посещенных сайтов. Индексы нумеровались с 1, так что заменим пропуски на нули.**"
   ]
  },
  {
   "cell_type": "code",
   "execution_count": 7,
   "metadata": {},
   "outputs": [],
   "source": [
    "train_test_df_date = train_test_df[['time%d' % i for i in range(1, 11)]].fillna(0)"
   ]
  },
  {
   "cell_type": "markdown",
   "metadata": {},
   "source": [
    "В дата сете время посещения - strings, нужно преобразовывать в формат времени."
   ]
  },
  {
   "cell_type": "code",
   "execution_count": 8,
   "metadata": {},
   "outputs": [],
   "source": [
    "def trans_date(date):\n",
    "    '''Transform str to datetime\n",
    "    date: str\n",
    "        format Year-month-day Hour:Min:Sec\n",
    "    '''\n",
    "    return datetime.strptime(date, '%Y-%m-%d %H:%M:%S')\n"
   ]
  },
  {
   "cell_type": "markdown",
   "metadata": {},
   "source": [
    "### Собираем признаки для всех сессий"
   ]
  },
  {
   "cell_type": "markdown",
   "metadata": {},
   "source": [
    "**Время перехода на следующий сайт**"
   ]
  },
  {
   "cell_type": "code",
   "execution_count": 9,
   "metadata": {},
   "outputs": [
    {
     "name": "stdout",
     "output_type": "stream",
     "text": [
      "Wall time: 52.3 s\n"
     ]
    }
   ],
   "source": [
    "%%time\n",
    "# time for watching one site\n",
    "for i in range (1,train_test_df_date.shape[1]):\n",
    "    \n",
    "    first_site_vect = train_test_df_date['time'+str(i)]\n",
    "    second_site_vect = train_test_df_date['time'+str(i+1)]\n",
    "    delay_vect = []\n",
    "    for time1, time2 in zip(first_site_vect, second_site_vect):\n",
    "        if time2==0:\n",
    "            delay_vect.append(-1)\n",
    "        else:\n",
    "            delay = trans_date(time2) - trans_date(time1)\n",
    "            delay_vect.append(delay.seconds)\n",
    "    \n",
    "    train_test_df_date['delay'+str(i)] = delay_vect\n",
    "\n"
   ]
  },
  {
   "cell_type": "code",
   "execution_count": 10,
   "metadata": {},
   "outputs": [
    {
     "name": "stdout",
     "output_type": "stream",
     "text": [
      "Wall time: 2min 51s\n"
     ]
    }
   ],
   "source": [
    "%%time\n",
    "loc_df = train_test_df_date[['delay'+str(i) for i in range(1,10)]].copy()\n",
    "mean_delay = []\n",
    "timespan = []\n",
    "for i in range(len(loc_df)):\n",
    "    positive = loc_df.iloc[i][loc_df.iloc[i]>=0]\n",
    "    len_positive = len(positive)\n",
    "    \n",
    "    cur_timespan = sum(positive)\n",
    "    timespan.append(cur_timespan)\n",
    "    if len_positive == 0:\n",
    "        mean_delay.append(0)\n",
    "    else:\n",
    "        mean_delay.append(cur_timespan/len_positive)\n",
    "\n",
    "train_test_df_date['mean_delay'] = mean_delay\n",
    "train_test_df_date['timespan'] = timespan\n",
    "\n",
    "del loc_df"
   ]
  },
  {
   "cell_type": "code",
   "execution_count": 11,
   "metadata": {},
   "outputs": [
    {
     "data": {
      "image/png": "[encoded data removed]",
      "text/plain": [
       "<Figure size 864x432 with 2 Axes>"
      ]
     },
     "metadata": {
      "needs_background": "light"
     },
     "output_type": "display_data"
    }
   ],
   "source": [
    "plt.subplots(1, 2, figsize = (12, 6)) \n",
    "plt.suptitle('Время на один сайт')\n",
    "\n",
    "plt.subplot(1, 2, 1)\n",
    "sns.distplot(train_test_df_date['mean_delay'][train_df['target'] == 1], bins=40)\n",
    "plt.title(\"Alice\")\n",
    "plt.xlim(1,120)\n",
    "plt.xlabel('Mean Time for 1 site, sec')\n",
    "          \n",
    "plt.subplot(1, 2, 2)\n",
    "sns.distplot(train_test_df_date['mean_delay'][train_df['target'] == 0], bins=40)\n",
    "plt.title('Others')\n",
    "plt.xlim(1,120)\n",
    "plt.xlabel('Mean Time for 1 site, sec');"
   ]
  },
  {
   "cell_type": "code",
   "execution_count": 12,
   "metadata": {},
   "outputs": [
    {
     "data": {
      "image/png": "[encoded data removed]",
      "text/plain": [
       "<Figure size 864x432 with 2 Axes>"
      ]
     },
     "metadata": {
      "needs_background": "light"
     },
     "output_type": "display_data"
    }
   ],
   "source": [
    "plt.subplots(1, 2, figsize = (12, 6)) \n",
    "plt.suptitle('Продолжительность сессии')\n",
    "\n",
    "plt.subplot(1, 2, 1)\n",
    "sns.distplot(train_test_df_date['timespan'][train_df['target'] == 1], bins=40)\n",
    "plt.title(\"Alice\")\n",
    "plt.xlim(1,120)\n",
    "plt.xlabel('timespan, sec')\n",
    "          \n",
    "plt.subplot(1, 2, 2)\n",
    "sns.distplot(train_test_df_date['timespan'][train_df['target'] == 0], bins=40)\n",
    "plt.title('Others')\n",
    "plt.xlim(1,120)\n",
    "plt.xlabel('timespan, sec');"
   ]
  },
  {
   "cell_type": "markdown",
   "metadata": {},
   "source": [
    "**Час сессии**"
   ]
  },
  {
   "cell_type": "code",
   "execution_count": 13,
   "metadata": {},
   "outputs": [
    {
     "data": {
      "image/png": "[encoded data removed]",
      "text/plain": [
       "<Figure size 864x432 with 2 Axes>"
      ]
     },
     "metadata": {
      "needs_background": "light"
     },
     "output_type": "display_data"
    }
   ],
   "source": [
    "# hour of session start \n",
    "train_test_df_date['hour'] = [trans_date(date).hour for date in train_test_df_date['time1']]\n",
    "\n",
    "plt.subplots(1, 2, figsize = (12, 6)) \n",
    "plt.suptitle('Час начала сессии')\n",
    "\n",
    "plt.subplot(1, 2, 1)\n",
    "sns.countplot(train_test_df_date['hour'][train_df['target'] == 1])\n",
    "plt.title(\"Alice\")\n",
    "plt.xlabel('Session start hour')\n",
    "          \n",
    "plt.subplot(1, 2, 2)\n",
    "sns.countplot(train_test_df_date['hour'][train_df['target'] == 0])\n",
    "plt.title('Others')\n",
    "plt.xlabel('Session start hour');"
   ]
  },
  {
   "cell_type": "markdown",
   "metadata": {},
   "source": [
    "**День недели сессии**"
   ]
  },
  {
   "cell_type": "code",
   "execution_count": 14,
   "metadata": {},
   "outputs": [
    {
     "data": {
      "image/png": "[encoded data removed]",
      "text/plain": [
       "<Figure size 864x432 with 2 Axes>"
      ]
     },
     "metadata": {
      "needs_background": "light"
     },
     "output_type": "display_data"
    }
   ],
   "source": [
    "# weekday of session\n",
    "train_test_df_date['week_day'] = [trans_date(date).weekday() for date in train_test_df_date.time1]\n",
    "\n",
    "plt.subplots(1, 2, figsize = (12, 6)) \n",
    "plt.suptitle('День недели')\n",
    "plt.subplot(1, 2, 1)\n",
    "sns.countplot(train_test_df_date['week_day'][train_df['target'] == 1])\n",
    "plt.title(\"Alice\")\n",
    "plt.xlabel('Session weekday')\n",
    "          \n",
    "plt.subplot(1, 2, 2)\n",
    "sns.countplot(train_test_df_date['week_day'][train_df['target'] == 0])\n",
    "plt.title('Others')\n",
    "plt.xlabel('Session weekday');"
   ]
  },
  {
   "cell_type": "markdown",
   "metadata": {},
   "source": [
    "## 2.2 Признаки по сайтам\n",
    "\n",
    "Вычислим для каждой группы ключевые признаки посещения сайтов:\n",
    "- Число топ сайтов в сессии\n",
    "- Число уникальных \n",
    "- Число уникальных топ сайтов"
   ]
  },
  {
   "cell_type": "code",
   "execution_count": 15,
   "metadata": {},
   "outputs": [],
   "source": [
    "train_test_df_sites = train_test_df[['site%d' % i for i in range(1, 11)]].fillna(0).astype('int')"
   ]
  },
  {
   "cell_type": "markdown",
   "metadata": {},
   "source": [
    "**Создание словаря частот** (на Kaggle есть готовый, но нужно уметь делать самому)"
   ]
  },
  {
   "cell_type": "code",
   "execution_count": 16,
   "metadata": {},
   "outputs": [
    {
     "name": "stdout",
     "output_type": "stream",
     "text": [
      "Wall time: 5min 58s\n"
     ]
    }
   ],
   "source": [
    "%%time\n",
    "site_dict = dict()\n",
    "for i in range(train_test_df_sites.shape[0]):\n",
    "    for j in range(train_test_df_sites.shape[1]):\n",
    "        site = train_test_df_sites.iloc[i,j]\n",
    "        if site not in site_dict.keys():\n",
    "            site_dict[site] = 1\n",
    "        else:\n",
    "            site_dict[site] += 1\n",
    "# sorting            \n",
    "site_dict = {k: v for k, v in sorted(site_dict.items(), key=lambda item: item[1], reverse = True)}"
   ]
  },
  {
   "cell_type": "markdown",
   "metadata": {},
   "source": [
    "Список топ сайтов (id=0 удаляем): "
   ]
  },
  {
   "cell_type": "code",
   "execution_count": 17,
   "metadata": {},
   "outputs": [],
   "source": [
    "top_sites = [key for key in site_dict.keys() if site_dict[key]>20000]\n",
    "# del 0 - it is Nan\n",
    "top_sites.remove(0)"
   ]
  },
  {
   "cell_type": "markdown",
   "metadata": {},
   "source": [
    "**Посещение топ сайтов**"
   ]
  },
  {
   "cell_type": "code",
   "execution_count": 18,
   "metadata": {},
   "outputs": [
    {
     "name": "stdout",
     "output_type": "stream",
     "text": [
      "Wall time: 5min 56s\n"
     ]
    }
   ],
   "source": [
    "%%time\n",
    "length_shape = len(train_test_df_sites)\n",
    "width_shape = train_test_df_sites.shape[1]\n",
    "\n",
    "# Number of top sites in session for each row\n",
    "n_top = [sum([train_test_df_sites.iloc[i,k] in top_sites for k in range(width_shape)]) for i in range(length_shape)]\n",
    "train_test_df_date['n_top'] = n_top"
   ]
  },
  {
   "cell_type": "code",
   "execution_count": 19,
   "metadata": {},
   "outputs": [
    {
     "data": {
      "image/png": "[encoded data removed]",
      "text/plain": [
       "<Figure size 864x432 with 2 Axes>"
      ]
     },
     "metadata": {
      "needs_background": "light"
     },
     "output_type": "display_data"
    }
   ],
   "source": [
    "plt.subplots(1, 2, figsize = (12, 6)) \n",
    "plt.suptitle('Посещение топ сайтов')\n",
    "\n",
    "plt.subplot(1, 2, 1)\n",
    "sns.countplot(train_test_df_date['n_top'][train_df['target'] == 1])\n",
    "plt.title(\"Alice\")\n",
    "plt.xlabel('Number of top sites in session')\n",
    "          \n",
    "plt.subplot(1, 2, 2)\n",
    "sns.countplot(train_test_df_date['n_top'][train_df['target'] == 0])\n",
    "plt.title('Others')\n",
    "plt.xlabel('Number of top sites in session');"
   ]
  },
  {
   "cell_type": "markdown",
   "metadata": {},
   "source": [
    "**Уникальных сайтов в сессии**"
   ]
  },
  {
   "cell_type": "code",
   "execution_count": 20,
   "metadata": {},
   "outputs": [
    {
     "name": "stdout",
     "output_type": "stream",
     "text": [
      "Wall time: 1min 52s\n"
     ]
    }
   ],
   "source": [
    "%%time\n",
    "\n",
    "length_shape = len(train_test_df_sites)\n",
    "width_shape = train_test_df_sites.shape[1]\n",
    "\n",
    "loc_df = train_test_df_sites.copy()\n",
    "# Len of list with unique sites exclude 0 for each row\n",
    "n_unique = [len(loc_df.iloc[i].unique()[loc_df.iloc[i].unique()!=0]) for i in range(length_shape)]\n",
    "del loc_df\n",
    "\n",
    "train_test_df_date['n_unique'] = n_unique"
   ]
  },
  {
   "cell_type": "code",
   "execution_count": 21,
   "metadata": {},
   "outputs": [
    {
     "data": {
      "image/png": "[encoded data removed]",
      "text/plain": [
       "<Figure size 864x432 with 2 Axes>"
      ]
     },
     "metadata": {
      "needs_background": "light"
     },
     "output_type": "display_data"
    }
   ],
   "source": [
    "plt.subplots(1, 2, figsize = (12, 6)) \n",
    "plt.suptitle('Уникальных сайтов в сессии')\n",
    "plt.subplot(1, 2, 1)\n",
    "sns.countplot(train_test_df_date['n_unique'][train_df['target'] == 1])\n",
    "plt.title(\"Alice\")\n",
    "plt.xlabel('Number of unique sites in session')\n",
    "          \n",
    "plt.subplot(1, 2, 2)\n",
    "sns.countplot(train_test_df_date['n_unique'][train_df['target'] == 0])\n",
    "plt.title('Others')\n",
    "plt.xlabel('Number of unique sites in session');"
   ]
  },
  {
   "cell_type": "markdown",
   "metadata": {},
   "source": [
    "**Уникальных топ сайтов в сессии**"
   ]
  },
  {
   "cell_type": "code",
   "execution_count": 22,
   "metadata": {},
   "outputs": [
    {
     "name": "stdout",
     "output_type": "stream",
     "text": [
      "Wall time: 31.1 s\n"
     ]
    }
   ],
   "source": [
    "%%time\n",
    "\n",
    "length_shape = len(train_test_df_sites)\n",
    "width_shape = train_test_df_sites.shape[1]\n",
    "\n",
    "loc_df = train_test_df_sites.copy()\n",
    "# Len of list with unique sites exclude 0 for each row\n",
    "n_top_unique = [len(set(loc_df.iloc[i]) & set(top_sites)) for i in range(length_shape)]\n",
    "del loc_df\n",
    "\n",
    "train_test_df_date['n_top_unique'] = n_top_unique"
   ]
  },
  {
   "cell_type": "code",
   "execution_count": 23,
   "metadata": {},
   "outputs": [
    {
     "data": {
      "image/png": "[encoded data removed]",
      "text/plain": [
       "<Figure size 864x432 with 2 Axes>"
      ]
     },
     "metadata": {
      "needs_background": "light"
     },
     "output_type": "display_data"
    }
   ],
   "source": [
    "plt.subplots(1, 2, figsize = (12, 6)) \n",
    "plt.suptitle('Уникальных ТОП сайтов в сессии')\n",
    "plt.subplot(1, 2, 1)\n",
    "sns.countplot(train_test_df_date['n_top_unique'][train_df['target'] == 1])\n",
    "plt.title(\"Alice\")\n",
    "plt.xlabel('Number of unique TOP sites in session')\n",
    "          \n",
    "plt.subplot(1, 2, 2)\n",
    "sns.countplot(train_test_df_date['n_top_unique'][train_df['target'] == 0])\n",
    "plt.title('Others')\n",
    "plt.xlabel('Number of unique TOP sites in session');"
   ]
  },
  {
   "cell_type": "markdown",
   "metadata": {},
   "source": [
    "Визуальный анализ.\n",
    "\n",
    "По полуенным распределениям признаков видно, что профиль Алисы отличается от основной массы пользователей.\n",
    "\n",
    "- Алиса часто заходит в интернет по понедельникам и редко по средам.\n",
    "- Пик активности приходится 16-17 часов\n",
    "- Алиса часто посещает три разных сайта из топ списка"
   ]
  },
  {
   "cell_type": "markdown",
   "metadata": {},
   "source": [
    "## 2.3 Признаки последовательности сайтов сессии\n"
   ]
  },
  {
   "cell_type": "code",
   "execution_count": 24,
   "metadata": {},
   "outputs": [
    {
     "data": {
      "text/html": [
       "<div>\n",
       "<style scoped>\n",
       "    .dataframe tbody tr th:only-of-type {\n",
       "        vertical-align: middle;\n",
       "    }\n",
       "\n",
       "    .dataframe tbody tr th {\n",
       "        vertical-align: top;\n",
       "    }\n",
       "\n",
       "    .dataframe thead th {\n",
       "        text-align: right;\n",
       "    }\n",
       "</style>\n",
       "<table border=\"1\" class=\"dataframe\">\n",
       "  <thead>\n",
       "    <tr style=\"text-align: right;\">\n",
       "      <th></th>\n",
       "      <th>site1</th>\n",
       "      <th>site2</th>\n",
       "      <th>site3</th>\n",
       "      <th>site4</th>\n",
       "      <th>site5</th>\n",
       "      <th>site6</th>\n",
       "      <th>site7</th>\n",
       "      <th>site8</th>\n",
       "      <th>site9</th>\n",
       "      <th>site10</th>\n",
       "    </tr>\n",
       "    <tr>\n",
       "      <th>session_id</th>\n",
       "      <th></th>\n",
       "      <th></th>\n",
       "      <th></th>\n",
       "      <th></th>\n",
       "      <th></th>\n",
       "      <th></th>\n",
       "      <th></th>\n",
       "      <th></th>\n",
       "      <th></th>\n",
       "      <th></th>\n",
       "    </tr>\n",
       "  </thead>\n",
       "  <tbody>\n",
       "    <tr>\n",
       "      <td>1</td>\n",
       "      <td>718</td>\n",
       "      <td>0</td>\n",
       "      <td>0</td>\n",
       "      <td>0</td>\n",
       "      <td>0</td>\n",
       "      <td>0</td>\n",
       "      <td>0</td>\n",
       "      <td>0</td>\n",
       "      <td>0</td>\n",
       "      <td>0</td>\n",
       "    </tr>\n",
       "    <tr>\n",
       "      <td>2</td>\n",
       "      <td>890</td>\n",
       "      <td>941</td>\n",
       "      <td>3847</td>\n",
       "      <td>941</td>\n",
       "      <td>942</td>\n",
       "      <td>3846</td>\n",
       "      <td>3847</td>\n",
       "      <td>3846</td>\n",
       "      <td>1516</td>\n",
       "      <td>1518</td>\n",
       "    </tr>\n",
       "    <tr>\n",
       "      <td>3</td>\n",
       "      <td>14769</td>\n",
       "      <td>39</td>\n",
       "      <td>14768</td>\n",
       "      <td>14769</td>\n",
       "      <td>37</td>\n",
       "      <td>39</td>\n",
       "      <td>14768</td>\n",
       "      <td>14768</td>\n",
       "      <td>14768</td>\n",
       "      <td>14768</td>\n",
       "    </tr>\n",
       "    <tr>\n",
       "      <td>4</td>\n",
       "      <td>782</td>\n",
       "      <td>782</td>\n",
       "      <td>782</td>\n",
       "      <td>782</td>\n",
       "      <td>782</td>\n",
       "      <td>782</td>\n",
       "      <td>782</td>\n",
       "      <td>782</td>\n",
       "      <td>782</td>\n",
       "      <td>782</td>\n",
       "    </tr>\n",
       "    <tr>\n",
       "      <td>5</td>\n",
       "      <td>22</td>\n",
       "      <td>177</td>\n",
       "      <td>175</td>\n",
       "      <td>178</td>\n",
       "      <td>177</td>\n",
       "      <td>178</td>\n",
       "      <td>175</td>\n",
       "      <td>177</td>\n",
       "      <td>177</td>\n",
       "      <td>178</td>\n",
       "    </tr>\n",
       "    <tr>\n",
       "      <td>...</td>\n",
       "      <td>...</td>\n",
       "      <td>...</td>\n",
       "      <td>...</td>\n",
       "      <td>...</td>\n",
       "      <td>...</td>\n",
       "      <td>...</td>\n",
       "      <td>...</td>\n",
       "      <td>...</td>\n",
       "      <td>...</td>\n",
       "      <td>...</td>\n",
       "    </tr>\n",
       "    <tr>\n",
       "      <td>82793</td>\n",
       "      <td>812</td>\n",
       "      <td>1039</td>\n",
       "      <td>676</td>\n",
       "      <td>0</td>\n",
       "      <td>0</td>\n",
       "      <td>0</td>\n",
       "      <td>0</td>\n",
       "      <td>0</td>\n",
       "      <td>0</td>\n",
       "      <td>0</td>\n",
       "    </tr>\n",
       "    <tr>\n",
       "      <td>82794</td>\n",
       "      <td>300</td>\n",
       "      <td>302</td>\n",
       "      <td>302</td>\n",
       "      <td>300</td>\n",
       "      <td>300</td>\n",
       "      <td>1222</td>\n",
       "      <td>302</td>\n",
       "      <td>1218</td>\n",
       "      <td>1221</td>\n",
       "      <td>1216</td>\n",
       "    </tr>\n",
       "    <tr>\n",
       "      <td>82795</td>\n",
       "      <td>29</td>\n",
       "      <td>33</td>\n",
       "      <td>35</td>\n",
       "      <td>22</td>\n",
       "      <td>37</td>\n",
       "      <td>6779</td>\n",
       "      <td>30</td>\n",
       "      <td>21</td>\n",
       "      <td>23</td>\n",
       "      <td>6780</td>\n",
       "    </tr>\n",
       "    <tr>\n",
       "      <td>82796</td>\n",
       "      <td>5828</td>\n",
       "      <td>23</td>\n",
       "      <td>21</td>\n",
       "      <td>804</td>\n",
       "      <td>21</td>\n",
       "      <td>3350</td>\n",
       "      <td>23</td>\n",
       "      <td>894</td>\n",
       "      <td>21</td>\n",
       "      <td>961</td>\n",
       "    </tr>\n",
       "    <tr>\n",
       "      <td>82797</td>\n",
       "      <td>21</td>\n",
       "      <td>1098</td>\n",
       "      <td>1098</td>\n",
       "      <td>1098</td>\n",
       "      <td>1098</td>\n",
       "      <td>1098</td>\n",
       "      <td>1098</td>\n",
       "      <td>1098</td>\n",
       "      <td>1098</td>\n",
       "      <td>1098</td>\n",
       "    </tr>\n",
       "  </tbody>\n",
       "</table>\n",
       "<p>336358 rows × 10 columns</p>\n",
       "</div>"
      ],
      "text/plain": [
       "            site1  site2  site3  site4  site5  site6  site7  site8  site9  \\\n",
       "session_id                                                                  \n",
       "1             718      0      0      0      0      0      0      0      0   \n",
       "2             890    941   3847    941    942   3846   3847   3846   1516   \n",
       "3           14769     39  14768  14769     37     39  14768  14768  14768   \n",
       "4             782    782    782    782    782    782    782    782    782   \n",
       "5              22    177    175    178    177    178    175    177    177   \n",
       "...           ...    ...    ...    ...    ...    ...    ...    ...    ...   \n",
       "82793         812   1039    676      0      0      0      0      0      0   \n",
       "82794         300    302    302    300    300   1222    302   1218   1221   \n",
       "82795          29     33     35     22     37   6779     30     21     23   \n",
       "82796        5828     23     21    804     21   3350     23    894     21   \n",
       "82797          21   1098   1098   1098   1098   1098   1098   1098   1098   \n",
       "\n",
       "            site10  \n",
       "session_id          \n",
       "1                0  \n",
       "2             1518  \n",
       "3            14768  \n",
       "4              782  \n",
       "5              178  \n",
       "...            ...  \n",
       "82793            0  \n",
       "82794         1216  \n",
       "82795         6780  \n",
       "82796          961  \n",
       "82797         1098  \n",
       "\n",
       "[336358 rows x 10 columns]"
      ]
     },
     "execution_count": 24,
     "metadata": {},
     "output_type": "execute_result"
    }
   ],
   "source": [
    "train_test_df_sites"
   ]
  },
  {
   "cell_type": "markdown",
   "metadata": {},
   "source": [
    "Плотную матрицу необходимо преобразовать в формат sparse_matrix разреженного вида."
   ]
  },
  {
   "cell_type": "code",
   "execution_count": 25,
   "metadata": {},
   "outputs": [],
   "source": [
    "def matrix_to_csr(inp_matrix):    \n",
    "    docs = inp_matrix\n",
    "    indptr = [0]\n",
    "    indices = []\n",
    "    data = []\n",
    "    vocabulary = {}\n",
    "    for d in docs:\n",
    "        for term in d:\n",
    "            if term:\n",
    "                index = term\n",
    "                indices.append(index)\n",
    "                data.append(1)\n",
    "        indptr.append(len(indices))\n",
    "    \n",
    "    sparse_matrix=csr_matrix((data, indices, indptr), dtype=int)[:,1:] # удаляем нулевой столбец\n",
    "    return sparse_matrix"
   ]
  },
  {
   "cell_type": "code",
   "execution_count": 26,
   "metadata": {},
   "outputs": [],
   "source": [
    "train_test_sparse = matrix_to_csr(train_test_df_sites.values)\n",
    "X_train_sparse = train_test_sparse[:train_df.shape[0]]\n",
    "X_test_sparse = train_test_sparse[train_df.shape[0]:]\n",
    "y = train_df.target"
   ]
  },
  {
   "cell_type": "markdown",
   "metadata": {},
   "source": [
    "# 3) Построение классификатора"
   ]
  },
  {
   "cell_type": "markdown",
   "metadata": {},
   "source": [
    "**Разобьем обучающую выборку на 2 части в пропорции 7/3, причем не перемешивая. Исходные данные упорядочены по времени, тестовая выборка по времени четко отделена от обучающей, это же соблюдем и здесь.**"
   ]
  },
  {
   "cell_type": "code",
   "execution_count": 27,
   "metadata": {},
   "outputs": [],
   "source": [
    "train_share = int(.7 * X_train_sparse.shape[0])\n",
    "X_train, y_train = X_train_sparse[:train_share, :], y[:train_share]\n",
    "X_valid, y_valid  = X_train_sparse[train_share:, :], y[train_share:]\n",
    "\n",
    "train_index = y[:train_share].index\n",
    "valid_index = y[train_share:].index"
   ]
  },
  {
   "cell_type": "markdown",
   "metadata": {},
   "source": [
    "Функция для построения валидационных кривых"
   ]
  },
  {
   "cell_type": "code",
   "execution_count": 28,
   "metadata": {},
   "outputs": [],
   "source": [
    "def plot_validation_curves(param_values, grid_cv_results_):\n",
    "    train_mu, train_std = grid_cv_results_['mean_train_score'], grid_cv_results_['std_train_score']\n",
    "    valid_mu, valid_std = grid_cv_results_['mean_test_score'], grid_cv_results_['std_test_score']\n",
    "    \n",
    "    plt.figure(figsize=(9,6))\n",
    "    train_line = plt.plot(param_values, train_mu, '-', label='train', color='green')\n",
    "    valid_line = plt.plot(param_values, valid_mu, '-', label='test', color='red')\n",
    "    \n",
    "    plt.fill_between(param_values, train_mu - train_std, train_mu + train_std, edgecolor='none',\n",
    "                     facecolor=train_line[0].get_color(), alpha=0.2)\n",
    "    plt.fill_between(param_values, valid_mu - valid_std, valid_mu + valid_std, edgecolor='none',\n",
    "                     facecolor=valid_line[0].get_color(), alpha=0.2)\n",
    "    \n",
    "    plt.title('Validation Curves')\n",
    "    plt.xlabel('alpha')\n",
    "    plt.ylabel('ROC AUC score')\n",
    "    plt.legend()\n",
    "    plt.show()"
   ]
  },
  {
   "cell_type": "markdown",
   "metadata": {},
   "source": [
    "Грубый поиск"
   ]
  },
  {
   "cell_type": "code",
   "execution_count": 29,
   "metadata": {},
   "outputs": [
    {
     "data": {
      "image/png": "[encoded data removed]",
      "text/plain": [
       "<Figure size 648x432 with 1 Axes>"
      ]
     },
     "metadata": {
      "needs_background": "light"
     },
     "output_type": "display_data"
    }
   ],
   "source": [
    "param_grid_sgd = {'alpha': np.linspace(1e-5, 0.04, 30)}\n",
    "sgd_logit = SGDClassifier(loss='log', random_state=17, n_jobs=-1)\n",
    "\n",
    "grid_search = GridSearchCV(sgd_logit, param_grid=param_grid_sgd,\n",
    "                           scoring='roc_auc',\n",
    "                           n_jobs=-1, cv=5, return_train_score=True)\n",
    "grid_search.fit(X_train, y_train)\n",
    "\n",
    "plot_validation_curves(param_grid_sgd['alpha'], grid_search.cv_results_)"
   ]
  },
  {
   "cell_type": "markdown",
   "metadata": {},
   "source": [
    "Точный поиск"
   ]
  },
  {
   "cell_type": "code",
   "execution_count": 30,
   "metadata": {},
   "outputs": [
    {
     "data": {
      "image/png": "[encoded data removed]",
      "text/plain": [
       "<Figure size 648x432 with 1 Axes>"
      ]
     },
     "metadata": {
      "needs_background": "light"
     },
     "output_type": "display_data"
    }
   ],
   "source": [
    "param_grid_sgd2 = {'alpha': np.linspace(1e-9, 1e-5, 30)}\n",
    "sgd_logit = SGDClassifier(loss='log', random_state=17, n_jobs=-1)\n",
    "\n",
    "grid_search2 = GridSearchCV(sgd_logit, param_grid=param_grid_sgd2,\n",
    "                           scoring='roc_auc',\n",
    "                           n_jobs=-1, cv=5, return_train_score=True)\n",
    "grid_search2.fit(X_train, y_train)\n",
    "\n",
    "plot_validation_curves(param_grid_sgd2['alpha'], grid_search2.cv_results_)"
   ]
  },
  {
   "cell_type": "markdown",
   "metadata": {},
   "source": [
    "### ROC и PR кривые"
   ]
  },
  {
   "cell_type": "code",
   "execution_count": 31,
   "metadata": {},
   "outputs": [],
   "source": [
    "best_log_sgd = grid_search2.best_estimator_"
   ]
  },
  {
   "cell_type": "code",
   "execution_count": 34,
   "metadata": {},
   "outputs": [],
   "source": [
    "# Compute ROC curve and ROC area for each class\n",
    "fpr = dict()\n",
    "tpr = dict()\n",
    "roc_auc = dict()\n",
    "y_score = best_log_sgd.predict_proba(X_valid)[:,1]\n",
    "fpr, tpr, thresholds = roc_curve(y_valid, y_score)\n",
    "roc_auc = auc(fpr, tpr)"
   ]
  },
  {
   "cell_type": "code",
   "execution_count": 35,
   "metadata": {},
   "outputs": [
    {
     "data": {
      "image/png": "[encoded data removed]",
      "text/plain": [
       "<Figure size 432x288 with 1 Axes>"
      ]
     },
     "metadata": {
      "needs_background": "light"
     },
     "output_type": "display_data"
    }
   ],
   "source": [
    "plt.plot(fpr, tpr, color='darkorange',\n",
    "         lw=2, label='ROC curve (area = %0.2f)' % roc_auc)\n",
    "\n",
    "plt.plot([0, 1], [0, 1], color='navy', lw=2, linestyle='--')\n",
    "plt.xlim([0.0, 1.0])\n",
    "plt.ylim([0.0, 1.05])\n",
    "plt.xlabel('False Positive Rate')\n",
    "plt.ylabel('True Positive Rate')\n",
    "plt.title('ROC curve')\n",
    "plt.legend(loc=\"lower right\")\n",
    "plt.show()"
   ]
  },
  {
   "cell_type": "code",
   "execution_count": 36,
   "metadata": {},
   "outputs": [
    {
     "data": {
      "image/png": "[encoded data removed]",
      "text/plain": [
       "<Figure size 432x288 with 1 Axes>"
      ]
     },
     "metadata": {
      "needs_background": "light"
     },
     "output_type": "display_data"
    }
   ],
   "source": [
    "pr, rec, _ = precision_recall_curve(y_valid, y_score)\n",
    "\n",
    "plt.plot(pr, rec, color='darkorange',\n",
    "         lw=2, label='PR curve (area = %0.2f)' % auc(rec, pr))\n",
    "\n",
    "plt.xlim([0.0, 1.0])\n",
    "plt.ylim([0.0, 1.05])\n",
    "plt.xlabel('False Positive Rate')\n",
    "plt.ylabel('True Positive Rate')\n",
    "plt.title('PR curve')\n",
    "plt.legend(loc=\"upper right\")\n",
    "plt.show()"
   ]
  },
  {
   "cell_type": "markdown",
   "metadata": {},
   "source": [
    "Посмотрим на какой доле объектов наша модель дает результат лучше константного."
   ]
  },
  {
   "cell_type": "code",
   "execution_count": 37,
   "metadata": {},
   "outputs": [
    {
     "name": "stdout",
     "output_type": "stream",
     "text": [
      "Априорная вероятность принадлежности к классу Алиса = 0.00905896411514389\n"
     ]
    }
   ],
   "source": [
    "p_alice = len(y[y==1])/len(y)\n",
    "\n",
    "print(f'Априорная вероятность принадлежности к классу Алиса = {p_alice}')"
   ]
  },
  {
   "cell_type": "code",
   "execution_count": 38,
   "metadata": {},
   "outputs": [
    {
     "name": "stdout",
     "output_type": "stream",
     "text": [
      "Доля объектов где модель лучше константы = 0.880057803468208\n"
     ]
    }
   ],
   "source": [
    "true_share = len(y_score[(y_score > p_alice) & (y_valid==1)])/(len(y_valid[y_valid==1]))\n",
    "print(f'Доля объектов где модель лучше константы = {true_share}')"
   ]
  },
  {
   "cell_type": "markdown",
   "metadata": {},
   "source": [
    "Неплохо. Вопрос выбора порога для классификации остается открытым и зависит от многих сторонних факторов. Например для банков очень важно не допустить взлом аккаунта пользователей, и лучше было бы перепроверить личность по ту сторону экрана. В противоположность этому, на семейных развлекательных сервисах разные члены семьи могут заходить в аккаунт и потреблять различный контент, в этом случае угроза для пользователя и сервиса небольшая."
   ]
  },
  {
   "cell_type": "markdown",
   "metadata": {},
   "source": [
    "# 4) Выводы"
   ]
  },
  {
   "cell_type": "markdown",
   "metadata": {},
   "source": [
    "**Изученные методики, объекты, термины:**\n",
    "    - разреженные данные, sparse матрицы\n",
    "    - визуальный анализ\n",
    "    - построение \n",
    "        + гистограмм распределения\n",
    "        + кривых валидации\n",
    "        + PR, ROC кривые\n",
    "    - поиск по сетке\n",
    "    - словари частот\n",
    "    - datetime признаки\n",
    "    \n",
    "**Результаты**\n",
    "    - построена модель классификации\n",
    "    - выбран оптимальный параметр модели\n",
    "    - проведен визуальный анализ\n",
    "    - произведена оценка качества модели"
   ]
  },
  {
   "cell_type": "code",
   "execution_count": 39,
   "metadata": {},
   "outputs": [],
   "source": [
    "t1 = time.clock()"
   ]
  },
  {
   "cell_type": "code",
   "execution_count": 45,
   "metadata": {},
   "outputs": [],
   "source": [
    "prediction = best_log_sgd.predict_proba(X_test_sparse)[:,1]\n",
    "\n",
    "def write_to_submission_file(predicted_labels, out_file,\n",
    "                             target='target', index_label=\"session_id\"):\n",
    "    # turn predictions into data frame and save as csv file\n",
    "    predicted_df = pd.DataFrame(predicted_labels,\n",
    "                                index = np.arange(1, predicted_labels.shape[0] + 1),\n",
    "                                columns=[target])\n",
    "    predicted_df.to_csv(out_file, index_label=index_label)\n",
    "    \n",
    "write_to_submission_file(prediction,'from_result.csv')"
   ]
  }
 ],
 "metadata": {
  "kernelspec": {
   "display_name": "Python 3",
   "language": "python",
   "name": "python3"
  },
  "language_info": {
   "codemirror_mode": {
    "name": "ipython",
    "version": 3
   },
   "file_extension": ".py",
   "mimetype": "text/x-python",
   "name": "python",
   "nbconvert_exporter": "python",
   "pygments_lexer": "ipython3",
   "version": "3.7.4"
  }
 },
 "nbformat": 4,
 "nbformat_minor": 2
}
